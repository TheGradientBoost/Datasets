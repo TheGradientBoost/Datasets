{
  "nbformat": 4,
  "nbformat_minor": 0,
  "metadata": {
    "colab": {
      "name": "Data Enrichment with punch stats.ipynb",
      "provenance": []
    },
    "kernelspec": {
      "name": "python3",
      "display_name": "Python 3"
    },
    "language_info": {
      "name": "python"
    }
  },
  "cells": [
    {
      "cell_type": "code",
      "metadata": {
        "id": "ddZnZRVzLEo2"
      },
      "source": [
        "import pandas as pd\n",
        "import requests\n",
        "import urllib.request\n",
        "import json\n",
        "import numpy as np\n",
        "import re\n",
        "from itertools import islice\n",
        "import time"
      ],
      "execution_count": 1,
      "outputs": []
    },
    {
      "cell_type": "code",
      "metadata": {
        "id": "kVyHKUV7LLNU"
      },
      "source": [
        "# extacting boxer ids from compubox\n",
        "def func():\n",
        "    headers = {\n",
        "        \"Accept\": \"application/json, text/javascript, */*; q=0.01\",\n",
        "        \"Accept-Encoding\": \"gzip, deflate\",\n",
        "        \"Accept-Language\": \"en-US,en;q=0.9\",\n",
        "        \"Connection\": \"keep-alive\",\n",
        "        \"Host\": \"beta.compuboxdata.com\",\n",
        "        \"Origin\": \"http://beta.compuboxdata.com.com\",\n",
        "        \"Referer\": \"http://beta.compuboxdata.com/fighter\",\n",
        "        \"User-Agent\": \"Mozilla/5.0 (Windows NT 10.0; Win64; x64) AppleWebKit/537.36 (KHTML, like Gecko) Chrome/77.0.3865.90 Safari/537.36\",\n",
        "        \"X-Requested-With\": \"XMLHttpRequest\"\n",
        "    }\n",
        "    dataload = {\n",
        "        \"q\": '',\n",
        "        \"page_limit\": 10000,\n",
        "        \"page\": 1,\n",
        "        \"_\": 1575596211029\n",
        "    }\n",
        "    # requests.get(http://beta.compuboxdata.com/front/fighter/get_fighters_name?q=&page_limit=10000&page=2&_=1575596211029)\n",
        "    r = requests.get('http://beta.compuboxdata.com/front/fighter/get_fighters_name', params=dataload)\n",
        "    r = r.json()\n",
        "    fighters = r['fighters']\n",
        "    fighters = [fighter['fighter_id'] for fighter in fighters]\n",
        "    return fighters"
      ],
      "execution_count": 2,
      "outputs": []
    },
    {
      "cell_type": "code",
      "metadata": {
        "id": "LAo4riXALRrN"
      },
      "source": [
        "# extract boxer fights from compubox\n",
        "def fights(list_of_boxers):\n",
        "    dataframe = pd.DataFrame()\n",
        "    for boxer in list_of_boxers:\n",
        "        headers = {\n",
        "            \"Accept\": \"application/json, text/javascript, */*; q=0.01\",\n",
        "            \"Accept-Encoding\": \"gzip, deflate\",\n",
        "            \"Accept-Language\": \"en-US,en;q=0.9\",\n",
        "            \"Connection\": \"keep-alive\",\n",
        "            \"Content-Length\": \"28\",\n",
        "            \"Content-Type\": \"application/x-www-form-urlencoded; charset=UTF-8\",\n",
        "            \"Host\": \"beta.compuboxdata.com\",\n",
        "            \"Origin\": \"http://beta.compuboxdata.com.com\",\n",
        "            \"Referer\": \"http://beta.compuboxdata.com/fighter\",\n",
        "            \"User-Agent\": \"Mozilla/5.0 (Windows NT 10.0; Win64; x64) AppleWebKit/537.36 (KHTML, like Gecko) Chrome/77.0.3865.90 Safari/537.36\",\n",
        "            \"X-Requested-With\": \"XMLHttpRequest\"\n",
        "        }\n",
        "        dataload = {\"page\": \"0\",\n",
        "                    \"result\": \"10000\",\n",
        "                    \"fighter\": boxer}\n",
        "        t0 = time.time()\n",
        "        r = requests.post('http://beta.compuboxdata.com/front/fighter/search', headers=headers, data=dataload)\n",
        "        r = r.json()\n",
        "        # grab the column names from the dictionary keys of one event\n",
        "        if len(r) > 0:\n",
        "            col_titles = r[0].keys()\n",
        "            # create a list of values (remove the keys from the dictionary of each instance)\n",
        "            event_values = [list(event.values()) for event in r]\n",
        "            # create a dataframe from the list of values\n",
        "            df = pd.concat([pd.DataFrame([i], columns=col_titles) for i in event_values], ignore_index=True)\n",
        "            dataframe = dataframe.append(df)\n",
        "            response_delay = time.time() - t0\n",
        "            time.sleep(0.5 * response_delay)\n",
        "    return dataframe\n",
        "fighters = func()"
      ],
      "execution_count": 3,
      "outputs": []
    },
    {
      "cell_type": "code",
      "metadata": {
        "id": "RoaE_UsALWAC"
      },
      "source": [
        "# get punch stats per fight\n",
        "def punch_stats(df):\n",
        "    final_rounds_df = pd.DataFrame()\n",
        "    final_df = pd.DataFrame()\n",
        "    stats_pattern = re.compile('\\d+\\.?\\d?(?=%)|\\d+\\/\\d+')\n",
        "    for index, row in df.iterrows():\n",
        "        headers = {\n",
        "            \"Accept\": \"*/*\",\n",
        "            \"Accept-Encoding\": \"gzip, deflate\",\n",
        "            \"Accept-Language\": \"en-US,en;q=0.9\",\n",
        "            \"Connection\": \"keep-alive\",\n",
        "            \"Content-Length\": \"86\",\n",
        "            \"Content-Type\": \"application/x-www-form-urlencoded; charset=UTF-8\",\n",
        "            \"Host\": \"beta.compuboxdata.com\",\n",
        "            \"Origin\": \"http://beta.compuboxdata.com.com\",\n",
        "            \"Referer\": \"http://beta.compuboxdata.com/fighter\",\n",
        "            \"User-Agent\": \"Mozilla/5.0 (Windows NT 10.0; Win64; x64) AppleWebKit/537.36 (KHTML, like Gecko) Chrome/77.0.3865.90 Safari/537.36\",\n",
        "            \"X-Requested-With\": \"XMLHttpRequest\"\n",
        "        }\n",
        "        # create the data/parameters for each request\n",
        "        dataload = {\"event_id\": row['event_id'],\n",
        "                    \"fighter1_id\": row['fighter1id'],\n",
        "                    \"fighter2_id\": row['fighter2id'],\n",
        "                    \"fighter1_name\": row['fighter1ln'],\n",
        "                    \"fighter2_name\": row['fighter2ln']\n",
        "                    }\n",
        "        t0 = time.time()\n",
        "        # request the info\n",
        "        r = requests.post('http://beta.compuboxdata.com/front/fighter/get_fight_report', headers=headers, data=dataload)\n",
        "        # scrape all the round data from the response\n",
        "        stats = re.findall(stats_pattern, r.text)\n",
        "        slice1 = []\n",
        "        for no in range(78):\n",
        "            slice1.append(2)\n",
        "        data_input = iter(stats)\n",
        "        stats = [list(islice(data_input, elem)) for elem in slice1]\n",
        "        slice2 = [12, 12, 12, 12, 12, 12, 3, 3]\n",
        "        input2 = iter(stats)\n",
        "        stats = [list(islice(input2, elem)) for elem in slice2]\n",
        "        # final punch stats\n",
        "        for idx, fighter in enumerate(stats[-2:]):\n",
        "            total_df = pd.DataFrame(fighter)\n",
        "            # add the fight / event_id\n",
        "            total_df['event_id'] = row['event_id']\n",
        "            # add the fighters name\n",
        "            if idx % 2 == 0:\n",
        "                total_df['fighter'] = row['fighter1ln']\n",
        "            else:\n",
        "                total_df['fighter'] = row['fighter2ln']\n",
        "            # add the stat titles\n",
        "            total_df['punch_stat'] = ['Total Punches', 'Jabs', 'Power Punches']\n",
        "            # append the dataframes to the corresponding dataframes\n",
        "            final_df = final_df.append(total_df)\n",
        "            response_delay = time.time() - t0\n",
        "            time.sleep(0.5 * response_delay)\n",
        "    # renaming columns\n",
        "    final_df.rename(columns={0: 'punches', 1: 'pct_landed'}, inplace=True)\n",
        "    # dropping duplicates\n",
        "    final_df.drop_duplicates(inplace=True)\n",
        "    return final_df\n",
        "df = fights(fighters)\n",
        "punches_df = punch_stats(df)"
      ],
      "execution_count": null,
      "outputs": []
    }
  ]
}