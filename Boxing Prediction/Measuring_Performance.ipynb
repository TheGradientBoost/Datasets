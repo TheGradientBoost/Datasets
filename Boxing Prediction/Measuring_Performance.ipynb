{
  "nbformat": 4,
  "nbformat_minor": 0,
  "metadata": {
    "colab": {
      "name": "Measuring Performance.ipynb",
      "provenance": []
    },
    "kernelspec": {
      "name": "python3",
      "display_name": "Python 3"
    },
    "language_info": {
      "name": "python"
    }
  },
  "cells": [
    {
      "cell_type": "markdown",
      "metadata": {
        "id": "OIUZIenhjqoH"
      },
      "source": [
        "Please note that this code will not run as there is no data attached to it. This is just to give you an idea of how to go about measuring your model's performance. Keep in mind in the scenario below; X refers to features while Y refers to the target variable (what we are trying to predict). "
      ]
    },
    {
      "cell_type": "code",
      "metadata": {
        "id": "S1V_r92Bj_8K"
      },
      "source": [
        "# Measuring classification accuracy\n",
        "import pandas as pd\n",
        "from sklearn import model_selection\n",
        "from sklearn.linear_model import LogisticRegression\n",
        "dataframe = pd.read_csv(df, names=names)\n",
        "array = dataframe.values\n",
        "X = array[:,0:8]\n",
        "Y = array[:,8]\n",
        "kfold = model_selection.KFold(n_splits=5, random_state=7, shuffle=True)\n",
        "model = LogisticRegression()\n",
        "scoring = 'accuracy'\n",
        "results = model_selection.cross_val_score(model, X, Y, cv=kfold, scoring=scoring)\n",
        "print(\"Accuracy: %.3f (%.3f)\" % (results.mean(), results.std()))"
      ],
      "execution_count": null,
      "outputs": []
    },
    {
      "cell_type": "markdown",
      "metadata": {
        "id": "F-LVC3w9lseW"
      },
      "source": [
        "**What is KFold Cross Validation?**\n",
        "\n",
        "Here are some sources to help you:\n",
        "\n",
        "\n",
        "*   A Gentle Introduction to k-fold Cross-Validation: https://machinelearningmastery.com/k-fold-cross-validation/ \n",
        "*   K-Fold Cross Validation explained in plain english: https://towardsdatascience.com/k-fold-cross-validation-explained-in-plain-english-659e33c0bc0\n",
        "\n",
        "*   What is stratified cross validation in Machine Learning: https://towardsdatascience.com/what-is-stratified-cross-validation-in-machine-learning-8844f3e7ae8e\n",
        "\n",
        "\n",
        "\n",
        "\n",
        "\n"
      ]
    },
    {
      "cell_type": "markdown",
      "metadata": {
        "id": "AHighlS6mgVI"
      },
      "source": [
        "**Classification Report**\n",
        "\n",
        "Here are some sources to help you:\n",
        "\n",
        "\n",
        "\n",
        "*   What is a confusion matrix in Machine Learning: https://machinelearningmastery.com/confusion-matrix-machine-learning/\n",
        "*   Confusion Matrix and Classification Report: https://medium.com/swlh/confusion-matrix-and-classification-report-88105288d48f \n",
        "*   How to Calculate Precision, Recall, and F-Measure for Imbalanced Classification: https://machinelearningmastery.com/precision-recall-and-f-measure-for-imbalanced-classification/\n",
        "*   A Gentle Introduction to Imbalanced Classification:\n",
        "https://machinelearningmastery.com/what-is-imbalanced-classification/\n",
        "*   F1 Score versus accuracy, which metric is more important: https://datascience.stackexchange.com/questions/65341/f1-score-vs-accuracy-which-metric-is-more-important \n"
      ]
    },
    {
      "cell_type": "code",
      "metadata": {
        "id": "a3eHC2uZlrMP"
      },
      "source": [
        "#importing relevant libraries\n",
        "from sklearn.tree import DecisionTreeClassifier\n",
        "from sklearn.model_selection import train_test_split\n",
        "from sklearn.metrics import classification_report, confusion_matrix\n",
        "\n",
        "X_train, X_test, y_train, y_test = train_test_split(X, y, test_size=0.30)\n",
        "classifier_tree = DecisionTreeClassifier()\n",
        "y_predict = classifier_tree.fit(X_train, y_train).predict(X_test)\n",
        "print(classification_report(y_test, y_predict, target_names=class_names))\n",
        "print(confusion_matrix(y_test, y_predict))"
      ],
      "execution_count": null,
      "outputs": []
    },
    {
      "cell_type": "markdown",
      "metadata": {
        "id": "PyioqXgOpj-H"
      },
      "source": [
        "**Extra Tips: Dimension Reduction**\n",
        "\n",
        "Here are some sources to help you out:\n",
        "\n",
        "\n",
        "*   A beginner’s guide to dimensionality reduction in Machine Learning\n",
        ": https://towardsdatascience.com/dimensionality-reduction-for-machine-learning-80a46c2ebb7e\n",
        "*   Dimensionality Reduction, How it works in plain english: https://blog.dataiku.com/dimensionality-reduction-how-it-works-in-plain-english\n",
        "*   6 Dimensionality Reduction Algorithms With Python\n",
        ": https://machinelearningmastery.com/dimensionality-reduction-algorithms-with-python/\n",
        "\n",
        "\n",
        "\n"
      ]
    }
  ]
}